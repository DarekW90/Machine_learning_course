{
  "nbformat": 4,
  "nbformat_minor": 0,
  "metadata": {
    "colab": {
      "provenance": [],
      "gpuType": "T4"
    },
    "kernelspec": {
      "name": "python3",
      "display_name": "Python 3"
    },
    "language_info": {
      "name": "python"
    },
    "accelerator": "GPU"
  },
  "cells": [
    {
      "cell_type": "markdown",
      "source": [
        "# 00. PyTorch Fundamentals Exercises\n",
        "\n",
        "### 1. Documentation reading\n",
        "\n",
        "A big part of deep learning (and learning to code in general) is getting familiar with the documentation of a certain framework you're using. We'll be using the PyTorch documentation a lot throughout the rest of this course. So I'd recommend spending 10-minutes reading the following (it's okay if you don't get some things for now, the focus is not yet full understanding, it's awareness):\n",
        "  * The documentation on [`torch.Tensor`](https://pytorch.org/docs/stable/tensors.html#torch-tensor).\n",
        "  * The documentation on [`torch.cuda`](https://pytorch.org/docs/master/notes/cuda.html#cuda-semantics).\n",
        "\n"
      ],
      "metadata": {
        "id": "AzDBM_v4iMe7"
      }
    },
    {
      "cell_type": "code",
      "source": [
        "# No code solution (reading)"
      ],
      "metadata": {
        "id": "bGD0oD8Kizak"
      },
      "execution_count": null,
      "outputs": []
    },
    {
      "cell_type": "markdown",
      "source": [
        "### 2. Create a random tensor with shape `(7, 7)`.\n"
      ],
      "metadata": {
        "id": "__iXqqz-ioUJ"
      }
    },
    {
      "cell_type": "code",
      "source": [
        "# Import torch\n",
        "\n",
        "\n",
        "# Create random tensor\n",
        "import torch\n",
        "tensor_A = torch.rand(7,7)\n",
        "tensor_A\n"
      ],
      "metadata": {
        "id": "6pUq9Dc8i2L7",
        "colab": {
          "base_uri": "https://localhost:8080/"
        },
        "outputId": "c2b64e40-61be-42db-8828-a2699fe211c5"
      },
      "execution_count": null,
      "outputs": [
        {
          "output_type": "execute_result",
          "data": {
            "text/plain": [
              "tensor([[0.2370, 0.3688, 0.6290, 0.7106, 0.5427, 0.0330, 0.2863],\n",
              "        [0.1922, 0.3913, 0.2049, 0.3948, 0.0425, 0.2921, 0.6167],\n",
              "        [0.3895, 0.2832, 0.9313, 0.7866, 0.8992, 0.6874, 0.2583],\n",
              "        [0.8163, 0.8801, 0.8298, 0.5806, 0.5409, 0.4724, 0.7706],\n",
              "        [0.2652, 0.4708, 0.9819, 0.3049, 0.4362, 0.7696, 0.5354],\n",
              "        [0.3630, 0.4414, 0.5657, 0.7747, 0.9935, 0.4008, 0.5823],\n",
              "        [0.1466, 0.8688, 0.4927, 0.1658, 0.9936, 0.9270, 0.3826]])"
            ]
          },
          "metadata": {},
          "execution_count": 2
        }
      ]
    },
    {
      "cell_type": "markdown",
      "source": [
        "### 3. Perform a matrix multiplication on the tensor from 2 with another random tensor with shape `(1, 7)` (hint: you may have to transpose the second tensor)."
      ],
      "metadata": {
        "id": "9-XxvRLfiqkR"
      }
    },
    {
      "cell_type": "code",
      "source": [
        "# Create another random tensor\n",
        "\n",
        "# Perform matrix multiplication\n",
        "import torch\n",
        "\n",
        "tensor_B = torch.rand(1,7)\n",
        "print(f\"Tensor_A:\\n{tensor_A}\\n\")\n",
        "print(f\"Tensor_B:\\n{tensor_B}\\n\")\n",
        "print(f\"Tensor_B.Transpose\\n{tensor_B.T}\\n\")\n",
        "tensor_multiply = torch.matmul(tensor_A, tensor_B.T)\n",
        "print(f\"Tensor_A * Tensor_B.T:\\n {tensor_multiply}\\n\")\n"
      ],
      "metadata": {
        "id": "NcLqR0Sbi_vT",
        "colab": {
          "base_uri": "https://localhost:8080/"
        },
        "outputId": "30a35e5c-b87b-4234-fa2f-fe11e1bd48b9"
      },
      "execution_count": null,
      "outputs": [
        {
          "output_type": "stream",
          "name": "stdout",
          "text": [
            "Tensor_A:\n",
            "tensor([[0.2370, 0.3688, 0.6290, 0.7106, 0.5427, 0.0330, 0.2863],\n",
            "        [0.1922, 0.3913, 0.2049, 0.3948, 0.0425, 0.2921, 0.6167],\n",
            "        [0.3895, 0.2832, 0.9313, 0.7866, 0.8992, 0.6874, 0.2583],\n",
            "        [0.8163, 0.8801, 0.8298, 0.5806, 0.5409, 0.4724, 0.7706],\n",
            "        [0.2652, 0.4708, 0.9819, 0.3049, 0.4362, 0.7696, 0.5354],\n",
            "        [0.3630, 0.4414, 0.5657, 0.7747, 0.9935, 0.4008, 0.5823],\n",
            "        [0.1466, 0.8688, 0.4927, 0.1658, 0.9936, 0.9270, 0.3826]])\n",
            "\n",
            "Tensor_B:\n",
            "tensor([[0.2192, 0.7993, 0.5931, 0.0135, 0.6815, 0.9956, 0.0851]])\n",
            "\n",
            "Tensor_B.Transpose\n",
            "tensor([[0.2192],\n",
            "        [0.7993],\n",
            "        [0.5931],\n",
            "        [0.0135],\n",
            "        [0.6815],\n",
            "        [0.9956],\n",
            "        [0.0851]])\n",
            "\n",
            "Tensor_A * Tensor_B.T:\n",
            " tensor([[1.1564],\n",
            "        [0.8540],\n",
            "        [2.1938],\n",
            "        [2.2870],\n",
            "        [2.1300],\n",
            "        [1.9040],\n",
            "        [2.6536]])\n",
            "\n"
          ]
        }
      ]
    },
    {
      "cell_type": "markdown",
      "source": [
        "### 4. Set the random seed to `0` and do 2 & 3 over again.\n",
        "\n",
        "The output should be:\n",
        "```\n",
        "(tensor([[1.8542],\n",
        "         [1.9611],\n",
        "         [2.2884],\n",
        "         [3.0481],\n",
        "         [1.7067],\n",
        "         [2.5290],\n",
        "         [1.7989]]), torch.Size([7, 1]))\n",
        "```"
      ],
      "metadata": {
        "id": "eiutdKUFiryU"
      }
    },
    {
      "cell_type": "code",
      "source": [
        "# Set manual seed\n",
        "torch.manual_seed(0)\n",
        "\n",
        "# Create two random tensors\n",
        "\n",
        "tensor_C = torch.rand(7,7)\n",
        "tensor_D = torch.rand(1,7)\n",
        "\n",
        "# Matrix multiply tensors\n",
        "\n",
        "new_tensor_multiply = torch.matmul(tensor_C, tensor_D.T)\n",
        "new_tensor_multiply, new_tensor_multiply.shape"
      ],
      "metadata": {
        "id": "D-lOWI_1jRMm",
        "colab": {
          "base_uri": "https://localhost:8080/"
        },
        "outputId": "6337e8a3-ec56-4a0b-e29d-50eabada428a"
      },
      "execution_count": null,
      "outputs": [
        {
          "output_type": "execute_result",
          "data": {
            "text/plain": [
              "(tensor([[1.8542],\n",
              "         [1.9611],\n",
              "         [2.2884],\n",
              "         [3.0481],\n",
              "         [1.7067],\n",
              "         [2.5290],\n",
              "         [1.7989]]),\n",
              " torch.Size([7, 1]))"
            ]
          },
          "metadata": {},
          "execution_count": 38
        }
      ]
    },
    {
      "cell_type": "markdown",
      "source": [
        "### 5. Speaking of random seeds, we saw how to set it with `torch.manual_seed()` but is there a GPU equivalent? (hint: you'll need to look into the documentation for `torch.cuda` for this one)\n",
        "  * If there is, set the GPU random seed to `1234`."
      ],
      "metadata": {
        "id": "ezY6ks9Cis37"
      }
    },
    {
      "cell_type": "code",
      "source": [
        "# Set random seed on the GPU\n",
        "torch.cuda.manual_seed(1234)"
      ],
      "metadata": {
        "id": "_LKWcfSTjp00"
      },
      "execution_count": null,
      "outputs": []
    },
    {
      "cell_type": "markdown",
      "source": [
        "\n",
        "### 6. Create two random tensors of shape `(2, 3)` and send them both to the GPU (you'll need access to a GPU for this). Set `torch.manual_seed(1234)` when creating the tensors (this doesn't have to be the GPU random seed). The output should be something like:\n",
        "\n",
        "```\n",
        "Device: cuda\n",
        "(tensor([[0.0290, 0.4019, 0.2598],\n",
        "         [0.3666, 0.0583, 0.7006]], device='cuda:0'),\n",
        " tensor([[0.0518, 0.4681, 0.6738],\n",
        "         [0.3315, 0.7837, 0.5631]], device='cuda:0'))\n",
        "```"
      ],
      "metadata": {
        "id": "Ir9qSaj6it4n"
      }
    },
    {
      "cell_type": "code",
      "source": [
        "# Set random seed\n",
        "import torch\n",
        "torch.manual_seed(1234)\n",
        "\n",
        "# Check for access to GPU\n",
        "\n",
        "device = \"cuda\" if torch.cuda.is_available() else \"cpu\"\n",
        "device\n",
        "\n",
        "# Create two random tensors on GPU\n",
        "tensor_A = torch.rand(2,3)\n",
        "tensor_B = torch.rand(2,3)\n",
        "\n",
        "print(f'Tensor one: device {tensor_A.device}')\n",
        "print(f'Tensor two: device {tensor_B.device}')\n",
        "print()\n",
        "tensor_A_gpu = tensor_A.to(device)\n",
        "tensor_B_gpu = tensor_B.to(device)\n",
        "\n",
        "print(f'Tensor one device changed to: {tensor_A_gpu.device}')\n",
        "print(f'Tensor two device changed to: {tensor_B_gpu.device}')\n"
      ],
      "metadata": {
        "id": "azXExiFZj5nm",
        "colab": {
          "base_uri": "https://localhost:8080/"
        },
        "outputId": "f8b70a86-f921-496e-d83f-a1b355efc7b5"
      },
      "execution_count": null,
      "outputs": [
        {
          "output_type": "stream",
          "name": "stdout",
          "text": [
            "Tensor one: device cpu\n",
            "Tensor two: device cpu\n",
            "\n",
            "Tensor one device changed to: cuda:0\n",
            "Tensor two device changed to: cuda:0\n"
          ]
        }
      ]
    },
    {
      "cell_type": "markdown",
      "source": [
        "\n",
        "### 7. Perform a matrix multiplication on the tensors you created in 6 (again, you may have to adjust the shapes of one of the tensors).\n",
        "\n",
        "The output should look like:\n",
        "```\n",
        "(tensor([[0.3647, 0.4709],\n",
        "         [0.5184, 0.5617]], device='cuda:0'), torch.Size([2, 2]))\n",
        "```"
      ],
      "metadata": {
        "id": "5TlAxeiSiu1y"
      }
    },
    {
      "cell_type": "code",
      "source": [
        "# Perform matmul on tensor_A and tensor_B\n",
        "tensor_cuda_matmul = torch.matmul(tensor_A_gpu, tensor_B_gpu.T)\n",
        "tensor_cuda_matmul, tensor_cuda_matmul.size()"
      ],
      "metadata": {
        "id": "fAeG7ox0lHEO",
        "colab": {
          "base_uri": "https://localhost:8080/"
        },
        "outputId": "5c1e4460-4757-445b-e714-21ebe5e81b6d"
      },
      "execution_count": null,
      "outputs": [
        {
          "output_type": "execute_result",
          "data": {
            "text/plain": [
              "(tensor([[0.3647, 0.4709],\n",
              "         [0.5184, 0.5617]], device='cuda:0'),\n",
              " torch.Size([2, 2]))"
            ]
          },
          "metadata": {},
          "execution_count": 15
        }
      ]
    },
    {
      "cell_type": "markdown",
      "source": [
        "### 8. Find the maximum and minimum values of the output of 7."
      ],
      "metadata": {
        "id": "G7qfa5CSivwg"
      }
    },
    {
      "cell_type": "code",
      "source": [
        "# Find max\n",
        "tensor_max = torch.max(tensor_cuda_matmul)\n",
        "\n",
        "# Find min\n",
        "tensor_min = torch.min(tensor_cuda_matmul)\n",
        "\n",
        "print(f\"tensor maximum value: {tensor_max}\")\n",
        "print(f\"tensor minimum value: {tensor_min}\")"
      ],
      "metadata": {
        "id": "Fu8_3mZpllOd",
        "colab": {
          "base_uri": "https://localhost:8080/"
        },
        "outputId": "1079984b-0c35-4d0e-f5cf-c5a722364567"
      },
      "execution_count": null,
      "outputs": [
        {
          "output_type": "stream",
          "name": "stdout",
          "text": [
            "tensor maximum value: 0.5617256760597229\n",
            "tensor minimum value: 0.3647301495075226\n"
          ]
        }
      ]
    },
    {
      "cell_type": "markdown",
      "source": [
        "### 9. Find the maximum and minimum index values of the output of 7."
      ],
      "metadata": {
        "id": "wrTj5FgNiw47"
      }
    },
    {
      "cell_type": "code",
      "source": [
        "# Find arg max\n",
        "tensor_arg_max = tensor_cuda_matmul.argmax()\n",
        "\n",
        "# Find arg min\n",
        "tensor_arg_min = tensor_cuda_matmul.argmin()\n",
        "\n",
        "print(f\"tensor arg maximum value: {tensor_arg_max}\")\n",
        "print(f\"tensor arg minimum value: {tensor_arg_min}\")"
      ],
      "metadata": {
        "id": "CCEKt4K2lsfQ",
        "colab": {
          "base_uri": "https://localhost:8080/"
        },
        "outputId": "1e9a251d-4845-4293-b116-fffe75b0d08d"
      },
      "execution_count": null,
      "outputs": [
        {
          "output_type": "stream",
          "name": "stdout",
          "text": [
            "tensor arg maximum value: 3\n",
            "tensor arg minimum value: 0\n"
          ]
        }
      ]
    },
    {
      "cell_type": "markdown",
      "source": [
        "\n",
        "### 10. Make a random tensor with shape `(1, 1, 1, 10)` and then create a new tensor with all the `1` dimensions removed to be left with a tensor of shape `(10)`. Set the seed to `7` when you create it and print out the first tensor and it's shape as well as the second tensor and it's shape.\n",
        "\n",
        "The output should look like:\n",
        "\n",
        "```\n",
        "tensor([[[[0.5349, 0.1988, 0.6592, 0.6569, 0.2328, 0.4251, 0.2071, 0.6297,\n",
        "           0.3653, 0.8513]]]]) torch.Size([1, 1, 1, 10])\n",
        "tensor([0.5349, 0.1988, 0.6592, 0.6569, 0.2328, 0.4251, 0.2071, 0.6297, 0.3653,\n",
        "        0.8513]) torch.Size([10])\n",
        "```"
      ],
      "metadata": {
        "id": "hmeybz4uixy7"
      }
    },
    {
      "cell_type": "code",
      "source": [
        "# Set seed\n",
        "import torch\n",
        "torch.manual_seed(7)\n",
        "\n",
        "# Create random tensor\n",
        "tensor_random_A = torch.rand(1,1,1,10)\n",
        "\n",
        "\n",
        "# Remove single dimensions\n",
        "tensor_random_B = tensor_random_A.squeeze()\n",
        "\n",
        "# Print out tensors and their shapes\n",
        "print(f'tensor A: {tensor_random_A, tensor_random_A.size()}')\n",
        "print(f'tensor B: {tensor_random_B, tensor_random_B.size()}')"
      ],
      "metadata": {
        "id": "TQ9zbRzVl1jV",
        "colab": {
          "base_uri": "https://localhost:8080/"
        },
        "outputId": "36a19e21-1285-44f7-f012-b316a4389bd4"
      },
      "execution_count": null,
      "outputs": [
        {
          "output_type": "stream",
          "name": "stdout",
          "text": [
            "tensor A: (tensor([[[[0.5349, 0.1988, 0.6592, 0.6569, 0.2328, 0.4251, 0.2071, 0.6297,\n",
            "           0.3653, 0.8513]]]]), torch.Size([1, 1, 1, 10]))\n",
            "tensor B: (tensor([0.5349, 0.1988, 0.6592, 0.6569, 0.2328, 0.4251, 0.2071, 0.6297, 0.3653,\n",
            "        0.8513]), torch.Size([10]))\n"
          ]
        }
      ]
    },
    {
      "cell_type": "code",
      "source": [],
      "metadata": {
        "id": "2JMIjdmgiRs1"
      },
      "execution_count": null,
      "outputs": []
    }
  ]
}